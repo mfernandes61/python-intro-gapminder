{
  "nbformat": 4,
  "nbformat_minor": 0,
  "metadata": {
    "colab": {
      "name": "17-scope.ipynb",
      "provenance": [],
      "authorship_tag": "ABX9TyNRa3sUuQ6MlvmMO9TIPoDZ",
      "include_colab_link": true
    },
    "kernelspec": {
      "name": "python3",
      "display_name": "Python 3"
    },
    "language_info": {
      "name": "python"
    }
  },
  "cells": [
    {
      "cell_type": "markdown",
      "metadata": {
        "id": "view-in-github",
        "colab_type": "text"
      },
      "source": [
        "<a href=\"https://colab.research.google.com/github/mfernandes61/python-intro-gapminder/blob/binder/colab/17_scope.ipynb\" target=\"_parent\"><img src=\"https://colab.research.google.com/assets/colab-badge.svg\" alt=\"Open In Colab\"/></a>"
      ]
    },
    {
      "cell_type": "markdown",
      "source": [
        "---\n",
        "title: \"Variable Scope\"\n",
        "teaching: 10\n",
        "exercises: 10\n",
        "questions:\n",
        "- \"How do function calls actually work?\"\n",
        "- \"How can I determine where errors occurred?\"\n",
        "objectives:\n",
        "- \"Identify local and global variables.\"\n",
        "- \"Identify parameters as local variables.\"\n",
        "- \"Read a traceback and determine the file, function, and line number on which the error occurred, the type of error, and the error message.\"\n",
        "keypoints:\n",
        "- \"The scope of a variable is the part of a program that can 'see' that variable.\"\n",
        "---\n",
        "## The scope of a variable is the part of a program that can 'see' that variable.\n",
        "\n",
        "*   There are only so many sensible names for variables.\n",
        "*   People using functions shouldn't have to worry about\n",
        "    what variable names the author of the function used.\n",
        "*   People writing functions shouldn't have to worry about\n",
        "    what variable names the function's caller uses.\n",
        "*   The part of a program in which a variable is visible is called its *scope*.\n",
        "\n",
        "~~~\n",
        "pressure = 103.9\n",
        "\n",
        "def adjust(t):\n",
        "    temperature = t * 1.43 / pressure\n",
        "    return temperature\n",
        "~~~\n",
        "{: .language-python}\n",
        "\n",
        "*   `pressure` is a *global variable*.\n",
        "    *   Defined outside any particular function.\n",
        "    *   Visible everywhere.\n",
        "*   `t` and `temperature` are *local variables* in `adjust`.\n",
        "    *   Defined in the function.\n",
        "    *   Not visible in the main program.\n",
        "    *   Remember: a function parameter is a variable\n",
        "        that is automatically assigned a value when the function is called.\n",
        "\n",
        "~~~\n",
        "print('adjusted:', adjust(0.9))\n",
        "print('temperature after call:', temperature)\n",
        "~~~\n",
        "{: .language-python}\n",
        "~~~\n",
        "adjusted: 0.01238691049085659\n",
        "~~~\n",
        "{: .output}\n",
        "~~~\n",
        "Traceback (most recent call last):\n",
        "  File \"/Users/swcarpentry/foo.py\", line 8, in <module>\n",
        "    print('temperature after call:', temperature)\n",
        "NameError: name 'temperature' is not defined\n",
        "~~~\n",
        "{: .error}\n",
        "\n",
        "> ## Local and Global Variable Use\n",
        ">\n",
        "> Trace the values of all variables in this program as it is executed.\n",
        "> (Use '---' as the value of variables before and after they exist.)\n",
        ">\n",
        "> ~~~\n",
        "> limit = 100\n",
        ">\n",
        "> def clip(value):\n",
        ">     return min(max(0.0, value), limit)\n",
        ">\n",
        "> value = -22.5\n",
        "> print(clip(value))\n",
        "> ~~~\n",
        "> {: .language-python}\n",
        "{: .challenge}\n",
        "\n",
        "> ## Reading Error Messages\n",
        ">\n",
        "> Read the traceback below, and identify the following:\n",
        ">\n",
        "> 1. How many levels does the traceback have?\n",
        "> 2. What is the file name where the error occurred?\n",
        "> 3. What is the function name where the error occurred?\n",
        "> 4. On which line number in this function did the error occur?\n",
        "> 5. What is the type of error?\n",
        "> 6. What is the error message?\n",
        ">\n",
        "> ~~~\n",
        "> ---------------------------------------------------------------------------\n",
        "> KeyError                                  Traceback (most recent call last)\n",
        "> <ipython-input-2-e4c4cbafeeb5> in <module>()\n",
        ">       1 import errors_02\n",
        "> ----> 2 errors_02.print_friday_message()\n",
        ">\n",
        "> /Users/ghopper/thesis/code/errors_02.py in print_friday_message()\n",
        ">      13\n",
        ">      14 def print_friday_message():\n",
        "> ---> 15     print_message(\"Friday\")\n",
        ">\n",
        "> /Users/ghopper/thesis/code/errors_02.py in print_message(day)\n",
        ">       9         \"sunday\": \"Aw, the weekend is almost over.\"\n",
        ">      10     }\n",
        "> ---> 11     print(messages[day])\n",
        ">      12\n",
        ">      13\n",
        ">\n",
        "> KeyError: 'Friday'\n",
        "> ~~~\n",
        "> {: .error}\n",
        "> > ## Solution\n",
        "> > 1. Three levels.\n",
        "> > 2. `errors_02.py`\n",
        "> > 3. `print_message`\n",
        "> > 4. Line 11\n",
        "> > 5. `KeyError`. These errors occur when we are trying to look up a key that does not exist (usually in a data\n",
        "> > structure such as a dictionary). We can find more information about the `KeyError` and other built-in exceptions\n",
        "> > in the [Python docs](https://docs.python.org/3/library/exceptions.html#KeyError).\n",
        "> > 6. `KeyError: 'Friday'`\n",
        "> {: .solution}\n",
        "{: .challenge}"
      ],
      "metadata": {
        "id": "bsRJwk5y4Skm"
      }
    },
    {
      "cell_type": "markdown",
      "source": [
        ""
      ],
      "metadata": {
        "id": "PzNn6psn4T98"
      }
    },
    {
      "cell_type": "code",
      "execution_count": null,
      "metadata": {
        "id": "5Wq6Tspt4RcE"
      },
      "outputs": [],
      "source": [
        ""
      ]
    }
  ]
}