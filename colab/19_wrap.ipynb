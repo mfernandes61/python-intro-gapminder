{
  "nbformat": 4,
  "nbformat_minor": 0,
  "metadata": {
    "colab": {
      "name": "19-wrap.ipynb",
      "provenance": [],
      "authorship_tag": "ABX9TyMQ90o44vc7OAqaR9BTM0DN",
      "include_colab_link": true
    },
    "kernelspec": {
      "name": "python3",
      "display_name": "Python 3"
    },
    "language_info": {
      "name": "python"
    }
  },
  "cells": [
    {
      "cell_type": "markdown",
      "metadata": {
        "id": "view-in-github",
        "colab_type": "text"
      },
      "source": [
        "<a href=\"https://colab.research.google.com/github/mfernandes61/python-intro-gapminder/blob/binder/colab/19_wrap.ipynb\" target=\"_parent\"><img src=\"https://colab.research.google.com/assets/colab-badge.svg\" alt=\"Open In Colab\"/></a>"
      ]
    },
    {
      "cell_type": "markdown",
      "source": [
        "---\n",
        "title: \"Wrap-Up\"\n",
        "teaching: 20\n",
        "exercises: 0\n",
        "questions:\n",
        "- \"What have we learned?\"\n",
        "- \"What else is out there and where do I find it?\"\n",
        "objectives:\n",
        "- \"Name and locate scientific Python community sites for software, workshops, and help.\"\n",
        "keypoints:\n",
        "- \"Python supports a large and diverse community across academia and industry.\"\n",
        "---\n",
        "\n",
        "Leslie Lamport once said, \"Writing is nature's way of showing you how sloppy your thinking is.\"\n",
        "The same is true of programming:\n",
        "many things that seem obvious when we're thinking about them\n",
        "turn out to be anything but when we have to explain them precisely.\n",
        "\n",
        "## Python supports a large and diverse community across academia and industry.\n",
        "\n",
        "*   The [Python 3 documentation](https://docs.python.org/3/) covers the core language\n",
        "    and the standard library.\n",
        "\n",
        "*   [PyCon](https://pycon.org/) is the largest annual conference for the Python community.\n",
        "\n",
        "*   [SciPy](https://scipy.org) is a rich collection of scientific utilities.\n",
        "    It is also the name of [a series of annual conferences](https://conference.scipy.org/).\n",
        "\n",
        "*   [Jupyter](https://jupyter.org) is the home of Project Jupyter.\n",
        "\n",
        "*   [Pandas](https://pandas.pydata.org) is the home of the Pandas data library.\n",
        "\n",
        "*   Stack Overflow's [general Python section](https://stackoverflow.com/questions/tagged/python?tab=Votes)\n",
        "    can be helpful,\n",
        "    as well as the sections on [NumPy](https://stackoverflow.com/questions/tagged/numpy?tab=Votes),\n",
        "    [SciPy](https://stackoverflow.com/questions/tagged/scipy?tab=Votes), and\n",
        "    [Pandas](https://stackoverflow.com/questions/tagged/pandas?tab=Votes)."
      ],
      "metadata": {
        "id": "rljBETiI5pRX"
      }
    },
    {
      "cell_type": "markdown",
      "source": [
        ""
      ],
      "metadata": {
        "id": "BtWvjuT-5oGW"
      }
    },
    {
      "cell_type": "code",
      "execution_count": null,
      "metadata": {
        "id": "YkOUp4Ed5bV9"
      },
      "outputs": [],
      "source": [
        ""
      ]
    }
  ]
}